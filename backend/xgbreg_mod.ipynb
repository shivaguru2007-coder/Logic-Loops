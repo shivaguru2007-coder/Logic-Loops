{
 "cells": [
  {
   "cell_type": "code",
   "execution_count": 1,
   "id": "ba0dd1bd-902b-40fb-bd10-1c6a87a70f09",
   "metadata": {},
   "outputs": [
    {
     "name": "stdout",
     "output_type": "stream",
     "text": [
      "Requirement already satisfied: xgboost in d:\\new folder\\lib\\site-packages (2.1.4)\n",
      "Requirement already satisfied: numpy in d:\\new folder\\lib\\site-packages (from xgboost) (1.26.4)\n",
      "Requirement already satisfied: scipy in d:\\new folder\\lib\\site-packages (from xgboost) (1.13.1)\n",
      "Note: you may need to restart the kernel to use updated packages.\n"
     ]
    }
   ],
   "source": [
    "pip install xgboost\n"
   ]
  },
  {
   "cell_type": "code",
   "execution_count": 2,
   "id": "131f6c21-d7e9-4f93-9837-809e2701b7d1",
   "metadata": {},
   "outputs": [],
   "source": [
    "import pandas as pd\n",
    "from sklearn.model_selection import train_test_split\n",
    "from xgboost import XGBRegressor\n",
    "import joblib"
   ]
  },
  {
   "cell_type": "code",
   "execution_count": 12,
   "id": "088b195d-ba20-4597-9f88-368632baa164",
   "metadata": {},
   "outputs": [],
   "source": [
    "df = pd.read_csv(\"converted_distillation_data.csv\")"
   ]
  },
  {
   "cell_type": "code",
   "execution_count": 4,
   "id": "e176c468-c198-4201-8105-a4520a5ed85f",
   "metadata": {},
   "outputs": [],
   "source": [
    "inputs = ['Feed_Flow_Rate', 'Feed_Composition', 'Reflux_Ratio', 'Boil_Up_Ratio']\n",
    "outputs = ['Distillate_Purity', 'Bottoms_Purity', 'Reboiler_Duty', 'Condenser_Duty']\n",
    "\n",
    "X = df[inputs]\n",
    "y = df[outputs]"
   ]
  },
  {
   "cell_type": "code",
   "execution_count": 5,
   "id": "03b5d6bb-e721-4599-af96-1ce7c6ce39db",
   "metadata": {},
   "outputs": [
    {
     "data": {
      "text/plain": [
       "['xgb_model.pkl']"
      ]
     },
     "execution_count": 5,
     "metadata": {},
     "output_type": "execute_result"
    }
   ],
   "source": [
    "X_train, X_test, y_train, y_test = train_test_split(X, y, test_size=0.2, random_state=42)\n",
    "\n",
    "xgb_model = XGBRegressor(n_estimators=500, learning_rate=0.1, max_depth=6, random_state=50)\n",
    "\n",
    "\n",
    "xgb_model.fit(X_train, y_train)\n",
    "\n",
    "joblib.dump(xgb_model, \"xgb_model.pkl\")"
   ]
  },
  {
   "cell_type": "code",
   "execution_count": null,
   "id": "2c165bc7-0d2d-453b-841a-1fa0928c343e",
   "metadata": {},
   "outputs": [],
   "source": []
  }
 ],
 "metadata": {
  "kernelspec": {
   "display_name": "Python 3 (ipykernel)",
   "language": "python",
   "name": "python3"
  },
  "language_info": {
   "codemirror_mode": {
    "name": "ipython",
    "version": 3
   },
   "file_extension": ".py",
   "mimetype": "text/x-python",
   "name": "python",
   "nbconvert_exporter": "python",
   "pygments_lexer": "ipython3",
   "version": "3.12.7"
  }
 },
 "nbformat": 4,
 "nbformat_minor": 5
}
