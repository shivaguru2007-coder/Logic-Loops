{
 "cells": [
  {
   "cell_type": "code",
   "execution_count": 1,
   "id": "dde16f72-03d2-4dd8-b74b-3dfb5f9cc325",
   "metadata": {},
   "outputs": [],
   "source": [
    "import joblib\n",
    "import numpy as np\n",
    "import pandas as pd\n",
    "from sklearn.metrics import mean_squared_error\n",
    "from scipy.optimize import minimize"
   ]
  },
  {
   "cell_type": "code",
   "execution_count": 22,
   "id": "fbcc82c5-aba1-41c8-b9a9-e447f78e07fe",
   "metadata": {},
   "outputs": [],
   "source": [
    "file_path = r\"C:\\Users\\advait\\Desktop\\converted_distillation_data.csv\"\n",
    "df = pd.read_csv(file_path)\n",
    "inputs = ['Feed_Flow_Rate', 'Feed_Composition', 'Reflux_Ratio', 'Boil_Up_Ratio']\n",
    "X = df[inputs]"
   ]
  },
  {
   "cell_type": "code",
   "execution_count": 30,
   "id": "7bedf421-0c4c-4483-b134-2e8c14e51297",
   "metadata": {},
   "outputs": [],
   "source": [
    "rf_model = joblib.load('rf_model.pkl')\n",
    "xgb_model = joblib.load('xgb_model.pkl')"
   ]
  },
  {
   "cell_type": "code",
   "execution_count": 32,
   "id": "4eccf8e7-62ae-44c1-b915-a8c8155769da",
   "metadata": {},
   "outputs": [],
   "source": [
    "X_test = pd.read_csv('X_test.csv')\n",
    "y_test = pd.read_csv('y_test.csv')"
   ]
  },
  {
   "cell_type": "code",
   "execution_count": 34,
   "id": "e11334b5-b525-44d6-bdbd-978a7a9803d0",
   "metadata": {},
   "outputs": [],
   "source": [
    "y_pred1 = rf_model.predict(X_test)\n",
    "y_pred2 = xgb_model.predict(X_test)\n"
   ]
  },
  {
   "cell_type": "code",
   "execution_count": 36,
   "id": "fc8b92f9-a988-4308-b25a-72a39144ea82",
   "metadata": {},
   "outputs": [],
   "source": [
    "y_pred_combined = (y_pred1 + y_pred2) / 2\n"
   ]
  },
  {
   "cell_type": "code",
   "execution_count": 38,
   "id": "8578a860-a6d0-4aee-ab5a-e4492b67ec89",
   "metadata": {},
   "outputs": [],
   "source": [
    "inputs = [[350, 2.5, 100, 2000]]\n",
    "input_df = pd.DataFrame(inputs, columns=['Feed_Flow_Rate','Feed_Composition','Reflux_Ratio','Boil_Up_Ratio'])\n",
    "ideal_values = [99.6, 0.04, 1250, 1120]"
   ]
  },
  {
   "cell_type": "code",
   "execution_count": 42,
   "id": "182aa994-1890-4250-a2e6-ac59468d84b8",
   "metadata": {},
   "outputs": [
    {
     "name": "stdout",
     "output_type": "stream",
     "text": [
      "Optimized Inputs: [75.   5.   2.5  0.1]\n"
     ]
    }
   ],
   "source": [
    "def objective_function(inputs):\n",
    "    input_df = pd.DataFrame([inputs], columns=['Feed_Flow_Rate', 'Feed_Composition', 'Reflux_Ratio', 'Boil_Up_Ratio'])\n",
    "    y_pred1 = rf_model.predict(input_df)\n",
    "    y_pred2 = xgb_model.predict(input_df)\n",
    "    y_pred_combined = (y_pred1 + y_pred2) / 2\n",
    "    error = np.mean((y_pred_combined - ideal_values) ** 2)\n",
    "    return error\n",
    "\n",
    "initial_inputs = [75, 5, 2.5, 0.1]\n",
    "bounds = [(50, 100),\n",
    "    (0, 50),\n",
    "    (0.5, 10.0),\n",
    "    (0.0,0.3)]\n",
    "result = minimize(objective_function, initial_inputs, bounds=bounds, method='L-BFGS-B')\n",
    "optimized_inputs = result.x\n",
    "print(\"Optimized Inputs:\", optimized_inputs)"
   ]
  }
 ],
 "metadata": {
  "kernelspec": {
   "display_name": "Python 3 (ipykernel)",
   "language": "python",
   "name": "python3"
  },
  "language_info": {
   "codemirror_mode": {
    "name": "ipython",
    "version": 3
   },
   "file_extension": ".py",
   "mimetype": "text/x-python",
   "name": "python",
   "nbconvert_exporter": "python",
   "pygments_lexer": "ipython3",
   "version": "3.12.7"
  }
 },
 "nbformat": 4,
 "nbformat_minor": 5
}
