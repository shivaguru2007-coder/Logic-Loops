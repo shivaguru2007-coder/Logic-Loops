{
 "cells": [
  {
   "cell_type": "code",
   "execution_count": null,
   "id": "a2eb0b31-b26c-4d62-8426-cab0eb6b481f",
   "metadata": {},
   "outputs": [],
   "source": [
    "!pip install scikit-optimize\n"
   ]
  },
  {
   "cell_type": "code",
   "execution_count": null,
   "id": "dd1a4f9d-925e-46cf-b4d3-5577fc782e6c",
   "metadata": {},
   "outputs": [],
   "source": [
    "import pandas as pd\n",
    "from sklearn.model_selection import train_test_split\n",
    "from sklearn.ensemble import RandomForestRegressor\n",
    "from scipy.optimize import minimize\n",
    "import numpy as np\n",
    "import matplotlib.pyplot as plt\n",
    "import joblib"
   ]
  },
  {
   "cell_type": "code",
   "execution_count": null,
   "id": "4db169e0-b107-4c67-9378-822ffee6520d",
   "metadata": {},
   "outputs": [],
   "source": [
    "df=pd.read_csv(\"converted_distillation_data.csv\")"
   ]
  },
  {
   "cell_type": "code",
   "execution_count": null,
   "id": "555e2b1c-4591-47ef-9477-f05e246fea4f",
   "metadata": {},
   "outputs": [],
   "source": [
    "inputs=['Feed_Flow_Rate','Feed_Composition','Reflux_Ratio','Boil_Up_Ratio']\n",
    "outputs=['Distillate_Purity','Bottoms_Purity','Reboiler_Duty','Condenser_Duty']"
   ]
  },
  {
   "cell_type": "code",
   "execution_count": null,
   "id": "3611ce3c-64bd-4d29-9f2f-c2c4597a9db4",
   "metadata": {},
   "outputs": [],
   "source": [
    "X=df[inputs]\n",
    "y=df[outputs]"
   ]
  },
  {
   "cell_type": "code",
   "execution_count": null,
   "id": "9a7e6f92-36d5-4346-ad85-403a3c325b9f",
   "metadata": {},
   "outputs": [],
   "source": [
    "X_train, X_test, y_train, y_test = train_test_split(X, y, test_size=0.2, random_state=42)"
   ]
  },
  {
   "cell_type": "code",
   "execution_count": null,
   "id": "995b40d7-6443-4756-8e51-ab6ca5b1b077",
   "metadata": {},
   "outputs": [],
   "source": [
    "rf_model = RandomForestRegressor(n_estimators=500, random_state=50)\n",
    "rf_model.fit(X_train, y_train)"
   ]
  },
  {
   "cell_type": "code",
   "execution_count": null,
   "id": "9daee1b6-1e57-448e-987a-2798eeaeb15e",
   "metadata": {},
   "outputs": [],
   "source": [
    "y_pred = rf_model.predict(X_test)"
   ]
  },
  {
   "cell_type": "code",
   "execution_count": null,
   "id": "56ff17ea-026c-4705-a7ca-e0f692f56f80",
   "metadata": {},
   "outputs": [],
   "source": [
    "inputs = [[350, 2.5, 100, 2000]]\n",
    "input_df = pd.DataFrame(inputs, columns=['Feed_Flow_Rate','Feed_Composition','Reflux_Ratio','Boil_Up_Ratio'])\n",
    "ideal_values = [99.6, 0.04, 1250, 1120]\n",
    "predicted_outputs = rf_model.predict(input_df)\n",
    "print(predicted_outputs)"
   ]
  },
  {
   "cell_type": "code",
   "execution_count": null,
   "id": "79de1eaa-4de8-4051-9b9c-295e8b4d544c",
   "metadata": {},
   "outputs": [],
   "source": [
    "def objective_function(inputs):\n",
    "    input_df = pd.DataFrame([inputs], columns=X.columns)\n",
    "    predicted_outputs = rf_model.predict(input_df).flatten()\n",
    "    error = sum((predicted_outputs - ideal_values) ** 2)\n",
    "    return error\n",
    "\n",
    "bounds = [\n",
    "    (50, 100),\n",
    "    (0, 50),\n",
    "    (0.5, 10.0),\n",
    "    (0.0,0.3)\n",
    "]\n",
    "\n",
    "initial_guess = [75, 5, 2.5, 0.1]\n",
    "\n",
    "result = minimize(\n",
    "    objective_function,\n",
    "    x0=initial_guess,\n",
    "    method='Powell',\n",
    "    bounds=bounds\n",
    ")\n",
    "\n",
    "best_inputs = result.x\n",
    "print(\"Optimized Inputs:\", best_inputs)"
   ]
  },
  {
   "cell_type": "code",
   "execution_count": null,
   "id": "5b9a3a4d-17fa-454e-96a6-608fc503b220",
   "metadata": {},
   "outputs": [],
   "source": [
    "joblib.dump(rf_model, \"rf_model.pkl\")"
   ]
  },
  {
   "cell_type": "code",
   "execution_count": null,
   "id": "b1b52177-ce1c-42d8-b967-e576a3437b34",
   "metadata": {},
   "outputs": [],
   "source": [
    "X_test.to_csv('X_test.csv', index=False)\n",
    "y_test.to_csv('y_test.csv', index=False)\n"
   ]
  },
  {
   "cell_type": "code",
   "execution_count": null,
   "id": "cbd83471-f011-41ba-bc19-d18ae65da7e9",
   "metadata": {},
   "outputs": [],
   "source": [
    "joblib.dump(y_test, 'y_test.pkl')"
   ]
  },
  {
   "cell_type": "code",
   "execution_count": null,
   "id": "bf77d22a-d799-4a81-b7cf-45bd25abb575",
   "metadata": {},
   "outputs": [],
   "source": [
    "joblib.dump(X_test, 'X_test.pkl')"
   ]
  },
  {
   "cell_type": "code",
   "execution_count": null,
   "id": "1692928e-7113-4104-9015-ede9aadf98d8",
   "metadata": {},
   "outputs": [],
   "source": []
  }
 ],
 "metadata": {
  "kernelspec": {
   "display_name": "Python 3 (ipykernel)",
   "language": "python",
   "name": "python3"
  },
  "language_info": {
   "codemirror_mode": {
    "name": "ipython",
    "version": 3
   },
   "file_extension": ".py",
   "mimetype": "text/x-python",
   "name": "python",
   "nbconvert_exporter": "python",
   "pygments_lexer": "ipython3",
   "version": "3.12.7"
  }
 },
 "nbformat": 4,
 "nbformat_minor": 5
}
